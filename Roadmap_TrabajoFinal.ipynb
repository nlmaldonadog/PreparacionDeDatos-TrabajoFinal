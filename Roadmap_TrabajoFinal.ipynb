{
 "cells": [
  {
   "cell_type": "markdown",
   "metadata": {},
   "source": [
    "# Pasos para la presentación del trabajo:\n",
    "\n",
    "## Exploración de los datos:\n",
    "- Identificación de OutLier (Con y Sin {Revisión}).\n",
    "    * LOF.\n",
    "    * Métodos Estadísticos (Desviación - Intercuartílicos).\n",
    "- Duplicados (Con y Sin {Revisión}). **Listo**.\n",
    "- Imputación (Rellenar y Quitar) {Es necesario}.\n",
    "- Datos estadísticos.\n",
    "- Mirar distribuciones.\n",
    "\n",
    "## Implementación de base:\n",
    "- 4 Algoritmos de clasificación.\n",
    "\n",
    "## Evaluación Stratrified K-Fold.\n",
    "- Creación PipeLine.\n",
    "\n",
    "Desicion tree.\n",
    "SVC.\n",
    "Randoms Forest.\n",
    "KNN.\n",
    "Naive Bayes - Gaussian NB.\n",
    "Regresión logística.\n",
    "\n",
    "## Tratamiento Unitario {Selección de características de un solo tipo}:\n",
    "- Tratamiento de variables categóricas (HOT N - Ordinal Encoder).\n",
    "    * Selección de características.\n",
    "\n",
    "- Tratamiento de variables númericas (Normalizar - Standarizar - RobustScaler - ¿Power Transformer - Solo Outlayers - Gaussiano? Clase 5 - P10).\n",
    "    * Selección de caractgeristicas (ANOVA - Mutual Information) Nota: Creo que primero se hace selección y luego escalamiento. Clase 5 - P8-P9.\n",
    "\n",
    "## Selección de características varias variables:\n",
    "- Selección de características (Clase 6 - P11).\n",
    "- Selección por índice de importancia (Clase 6 - P12).\n",
    "\n",
    "## Transformación avanzada de los datos {Creación de nuevos datos en base a los iniciales}:\n",
    "- Transformaciones numéricas para volver nuestros datos más Gaussianos (Limitaciones y características de uso PowerTransform \"BoxCox - Yeo Jhonson\" Clase 7 - P14. P13 {Ejemplo de TargetRegressor y ColumnTransformer}).\n",
    "- Transformaciones numéricas con los quintiles - Finalidad, volver la distribución más Gaussiana (Clase 8 - P15).\n",
    "- Transformaciones de numéricas a categóricas - (Clase 8 - P16).\n",
    "- Featuring Engenering (Polynomial Feature Transform Clase 9 - P17).\n",
    "- Reducción de la dimensionalidad de nuestros datos (PCA - SVD).\n",
    "\n",
    "## Put it all together:\n",
    "- Creación PipeLine."
   ]
  }
 ],
 "metadata": {
  "language_info": {
   "name": "python"
  }
 },
 "nbformat": 4,
 "nbformat_minor": 2
}
