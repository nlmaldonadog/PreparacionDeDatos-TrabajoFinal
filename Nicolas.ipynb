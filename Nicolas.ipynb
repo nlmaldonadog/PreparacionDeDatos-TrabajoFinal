{
 "cells": [
  {
   "cell_type": "code",
   "execution_count": 20,
   "metadata": {},
   "outputs": [],
   "source": [
    "import pandas as pd\n",
    "import numpy as np\n",
    "import matplotlib.pyplot as plt\n",
    "import seaborn as sns\n",
    "import warnings\n",
    "warnings.filterwarnings(\"ignore\")\n",
    "pd.set_option('display.max_columns', None)\n",
    "\n",
    "columns = [\n",
    "    'Base year',\n",
    "    'Subscriber serial number',\n",
    "    'attempt code',\n",
    "    'gender code',\n",
    "    'Age code (5 years increments)',\n",
    "    'Height (in 5cm increments)',\n",
    "    'Weight (in 5 kg units)',\n",
    "    'Waist circumference',\n",
    "    'Vision (left)',\n",
    "    'Vision (right)',\n",
    "    'Hearing (left)',\n",
    "    'Hearing (right)',\n",
    "    'systolic blood pressure',\n",
    "    'diastolic blood pressure',\n",
    "    'Pre-meal blood sugar (fasting blood sugar)',\n",
    "    'total cholesterol',\n",
    "    'triglycerides',\n",
    "    'Cholesterol (HDL)',\n",
    "    'Cholesterol (LDL)',\n",
    "    'hemoglobin',\n",
    "    'urine protein',\n",
    "    'Serum creatinine',\n",
    "    'Liver function test (AST)',\n",
    "    'Liver function test (ALT)',\n",
    "    'Gamma GT',\n",
    "    'Smoking status',\n",
    "    'Drinking status',\n",
    "    'Whether to undergo oral examination',\n",
    "    'Presence of dental caries',\n",
    "    'Whether or not the defect is healed',\n",
    "    'Presence or absence of tooth wear',\n",
    "    'Third molars (wisdom teeth) or more',\n",
    "    'tartar'\n",
    "]\n",
    "df_original = pd.read_csv('Smoking/data-kor.CSV', encoding='cp949', names=columns, skiprows=1)"
   ]
  },
  {
   "cell_type": "markdown",
   "metadata": {},
   "source": [
    "# Posibilidad de agregar al otro documento:"
   ]
  },
  {
   "cell_type": "markdown",
   "metadata": {},
   "source": [
    "Validamos duplicados."
   ]
  },
  {
   "cell_type": "code",
   "execution_count": 19,
   "metadata": {},
   "outputs": [
    {
     "name": "stdout",
     "output_type": "stream",
     "text": [
      "True\n"
     ]
    },
    {
     "data": {
      "text/html": [
       "<div>\n",
       "<style scoped>\n",
       "    .dataframe tbody tr th:only-of-type {\n",
       "        vertical-align: middle;\n",
       "    }\n",
       "\n",
       "    .dataframe tbody tr th {\n",
       "        vertical-align: top;\n",
       "    }\n",
       "\n",
       "    .dataframe thead th {\n",
       "        text-align: right;\n",
       "    }\n",
       "</style>\n",
       "<table border=\"1\" class=\"dataframe\">\n",
       "  <thead>\n",
       "    <tr style=\"text-align: right;\">\n",
       "      <th></th>\n",
       "      <th>gender</th>\n",
       "      <th>age</th>\n",
       "      <th>height(cm)</th>\n",
       "      <th>weight(kg)</th>\n",
       "      <th>waist(cm)</th>\n",
       "      <th>eyesight(left)</th>\n",
       "      <th>eyesight(right)</th>\n",
       "      <th>hearing(left)</th>\n",
       "      <th>hearing(right)</th>\n",
       "      <th>systolic</th>\n",
       "      <th>relaxation</th>\n",
       "      <th>fasting blood sugar</th>\n",
       "      <th>Cholesterol</th>\n",
       "      <th>triglyceride</th>\n",
       "      <th>HDL</th>\n",
       "      <th>LDL</th>\n",
       "      <th>hemoglobin</th>\n",
       "      <th>Urine protein</th>\n",
       "      <th>serum creatinine</th>\n",
       "      <th>AST</th>\n",
       "      <th>ALT</th>\n",
       "      <th>Gtp</th>\n",
       "      <th>oral</th>\n",
       "      <th>dental caries</th>\n",
       "      <th>tartar</th>\n",
       "    </tr>\n",
       "  </thead>\n",
       "  <tbody>\n",
       "    <tr>\n",
       "      <th>35593</th>\n",
       "      <td>F</td>\n",
       "      <td>40</td>\n",
       "      <td>165</td>\n",
       "      <td>65</td>\n",
       "      <td>84.8</td>\n",
       "      <td>1.2</td>\n",
       "      <td>1.2</td>\n",
       "      <td>1.0</td>\n",
       "      <td>1.0</td>\n",
       "      <td>116.0</td>\n",
       "      <td>82.0</td>\n",
       "      <td>91.0</td>\n",
       "      <td>181.0</td>\n",
       "      <td>105.0</td>\n",
       "      <td>59.0</td>\n",
       "      <td>101.0</td>\n",
       "      <td>12.8</td>\n",
       "      <td>1.0</td>\n",
       "      <td>0.6</td>\n",
       "      <td>21.0</td>\n",
       "      <td>15.0</td>\n",
       "      <td>14.0</td>\n",
       "      <td>Y</td>\n",
       "      <td>0.0</td>\n",
       "      <td>Y</td>\n",
       "    </tr>\n",
       "  </tbody>\n",
       "</table>\n",
       "</div>"
      ],
      "text/plain": [
       "      gender  age  height(cm)  weight(kg)  waist(cm)  eyesight(left)  \\\n",
       "35593      F   40         165          65       84.8             1.2   \n",
       "\n",
       "       eyesight(right)  hearing(left)  hearing(right)  systolic  relaxation  \\\n",
       "35593              1.2            1.0             1.0     116.0        82.0   \n",
       "\n",
       "       fasting blood sugar  Cholesterol  triglyceride   HDL    LDL  \\\n",
       "35593                 91.0        181.0         105.0  59.0  101.0   \n",
       "\n",
       "       hemoglobin  Urine protein  serum creatinine   AST   ALT   Gtp oral  \\\n",
       "35593        12.8            1.0               0.6  21.0  15.0  14.0    Y   \n",
       "\n",
       "       dental caries tartar  \n",
       "35593            0.0      Y  "
      ]
     },
     "execution_count": 19,
     "metadata": {},
     "output_type": "execute_result"
    }
   ],
   "source": [
    "dups = df.duplicated()\n",
    "print(dups.any())\n",
    "df[dups]"
   ]
  },
  {
   "cell_type": "markdown",
   "metadata": {},
   "source": [
    "En este caso decidimos eliminarlos puesto a que unicamente tenemos un registro duplicado y dadas la cantidad de variables se puede asumir "
   ]
  },
  {
   "cell_type": "code",
   "execution_count": null,
   "metadata": {},
   "outputs": [],
   "source": [
    "df.drop_duplicates(inplace=True)"
   ]
  }
 ],
 "metadata": {
  "kernelspec": {
   "display_name": "Tecnicas",
   "language": "python",
   "name": "python3"
  },
  "language_info": {
   "codemirror_mode": {
    "name": "ipython",
    "version": 3
   },
   "file_extension": ".py",
   "mimetype": "text/x-python",
   "name": "python",
   "nbconvert_exporter": "python",
   "pygments_lexer": "ipython3",
   "version": "3.10.13"
  }
 },
 "nbformat": 4,
 "nbformat_minor": 2
}
