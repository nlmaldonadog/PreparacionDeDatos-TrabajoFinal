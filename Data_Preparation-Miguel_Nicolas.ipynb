{
 "cells": [
  {
   "cell_type": "markdown",
   "metadata": {},
   "source": [
    "# Trabajo Final\n",
    "Nicolás Maldonado - Miguel Gómez\n",
    "## Preparacion de Datos\n",
    "8 / Enero / 2024<br>\n",
    "Master en Ciencia de Datos y Aprendizaje Automatico\n",
    "\n",
    "## Descripción: Body signal of smoking\n",
    "\n",
    "## Objetivo:\n",
    "This dataset is a collection of basic health biological signal data.\n",
    "The goal is to determine the presence or absence of smoking through bio-signals.\n",
    "\n",
    "Origen de los datos: Kaggle -> [Body signal of smoking](https://www.kaggle.com/datasets/kukuroo3/body-signal-of-smoking)"
   ]
  }
 ],
 "metadata": {
  "kernelspec": {
   "display_name": "Tecnicas",
   "language": "python",
   "name": "python3"
  },
  "language_info": {
   "codemirror_mode": {
    "name": "ipython",
    "version": 3
   },
   "file_extension": ".py",
   "mimetype": "text/x-python",
   "name": "python",
   "nbconvert_exporter": "python",
   "pygments_lexer": "ipython3",
   "version": "3.10.13"
  }
 },
 "nbformat": 4,
 "nbformat_minor": 2
}
